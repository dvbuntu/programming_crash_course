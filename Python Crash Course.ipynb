{
 "cells": [
  {
   "cell_type": "markdown",
   "metadata": {},
   "source": [
    "# Basic Syntax\n",
    "\n",
    "Python is a programming language popular in the scientific computing community.  While not as fast as languages like C, it is often faster to write the code.\n",
    "\n",
    "This is a JuPyter notebook, an interactive interface to Python (and other languages).  You can edit and run specific cells, but variables are carried over between cells."
   ]
  },
  {
   "cell_type": "code",
   "execution_count": null,
   "metadata": {},
   "outputs": [],
   "source": [
    "## Print a string (i.e. some text)\n",
    "print('Hello, World!')"
   ]
  },
  {
   "cell_type": "code",
   "execution_count": null,
   "metadata": {},
   "outputs": [],
   "source": [
    "# pound sign indicates a comment, i.e. not code\n",
    "\n",
    "## store values into a variable\n",
    "x = 'I am a variable'\n",
    "print(x)\n",
    "\n",
    "y = 'Different variable'\n",
    "print(y)\n",
    "\n",
    "y = 'Overwritten variable'\n",
    "print(y)"
   ]
  },
  {
   "cell_type": "code",
   "execution_count": null,
   "metadata": {},
   "outputs": [],
   "source": [
    "## types of variables\n",
    "x = 'ABC'   # string\n",
    "x2 = \"def\"  # also a string, can use either quote\n",
    "y = 10      # integer\n",
    "z = 10.0    # floating point (i.e. decimal)\n",
    "a = True    # boolean value\n",
    "b = False   # boolean value"
   ]
  },
  {
   "cell_type": "code",
   "execution_count": null,
   "metadata": {},
   "outputs": [],
   "source": [
    "# simple arithmetic\n",
    "x = 2 + 2\n",
    "print(x)\n",
    "\n",
    "y = 3 * (x-2)\n",
    "print(y)\n",
    "\n",
    "z = x**y # exponentiation\n",
    "print(z)\n",
    "\n",
    "print( y % x ) # y modulo x"
   ]
  },
  {
   "cell_type": "code",
   "execution_count": null,
   "metadata": {},
   "outputs": [],
   "source": [
    "## add two strings!\n",
    "x = 'abc'\n",
    "y = 'def'\n",
    "print(x + y)"
   ]
  },
  {
   "cell_type": "markdown",
   "metadata": {},
   "source": [
    "# Flow Control\n",
    "\n",
    "Sometimes, you need code A to run, and sometimes you need code B to run.  Python has `if` statements to control which code you want to run.  Make sure you indent (4 spaces) the block of code to run given the condition."
   ]
  },
  {
   "cell_type": "code",
   "execution_count": null,
   "metadata": {},
   "outputs": [],
   "source": [
    "# conditional operation\n",
    "x = 2\n",
    "if x < 1:\n",
    "    print(\"Success!\")\n",
    "elif x == 2:\n",
    "    print(\"x is 2\")\n",
    "else:\n",
    "    print(\"No luck!\")"
   ]
  },
  {
   "cell_type": "code",
   "execution_count": null,
   "metadata": {},
   "outputs": [],
   "source": [
    "if False:\n",
    "    print(\"Will never show up\")"
   ]
  },
  {
   "cell_type": "markdown",
   "metadata": {},
   "source": [
    "# Reading Data\n",
    "\n",
    "You can load information from a file on disk.  First you have to `open` the file, and later you `read` to access the data.  But make sure that you cleanup and `close` the file (there is a way to have that happen automatically, but we don't go into that here)."
   ]
  },
  {
   "cell_type": "code",
   "execution_count": null,
   "metadata": {},
   "outputs": [],
   "source": [
    "# Read a file\n",
    "f = open('sample.txt', 'r') # 'r' for read\n",
    "text = f.read()\n",
    "f.close() # be sure to clean up\n",
    "print(text)"
   ]
  },
  {
   "cell_type": "markdown",
   "metadata": {},
   "source": [
    "# Lists and Other Data Types\n",
    "\n",
    "In Python, you can store multiple variables into a single `list` object.  Then, you can access them by position (zero is the first position)."
   ]
  },
  {
   "cell_type": "code",
   "execution_count": null,
   "metadata": {},
   "outputs": [],
   "source": [
    "# Lists and dictionaries\n",
    "## Lists store many things in some order\n",
    "thing = [1, 2, 'abc']\n",
    "print(thing)"
   ]
  },
  {
   "cell_type": "code",
   "execution_count": null,
   "metadata": {},
   "outputs": [],
   "source": [
    "## Access specific elements by index (first is 0)\n",
    "print(thing[0])\n",
    "print(thing[0] + thing[1])"
   ]
  },
  {
   "cell_type": "code",
   "execution_count": null,
   "metadata": {},
   "outputs": [],
   "source": [
    "## Assign new value\n",
    "thing[2] = 'def'\n",
    "print(thing)"
   ]
  },
  {
   "cell_type": "code",
   "execution_count": null,
   "metadata": {},
   "outputs": [],
   "source": [
    "## list of lists!\n",
    "foo = [thing, ['a', 'b', 'c']]\n",
    "print(foo)"
   ]
  },
  {
   "cell_type": "code",
   "execution_count": null,
   "metadata": {},
   "outputs": [],
   "source": [
    "## append new value to end of list\n",
    "foo.append('def')\n",
    "print(foo)"
   ]
  },
  {
   "cell_type": "code",
   "execution_count": null,
   "metadata": {},
   "outputs": [],
   "source": [
    "## strings are similar to lists, access by index\n",
    "bar = 'my string'\n",
    "print(bar[3])"
   ]
  },
  {
   "cell_type": "code",
   "execution_count": null,
   "metadata": {},
   "outputs": [],
   "source": [
    "## but you can't set values in a string\n",
    "bar[2] = 'x' # Error!"
   ]
  },
  {
   "cell_type": "code",
   "execution_count": null,
   "metadata": {},
   "outputs": [],
   "source": [
    "## can convert strings to lists\n",
    "baz = list(bar)\n",
    "print(baz)"
   ]
  },
  {
   "cell_type": "code",
   "execution_count": null,
   "metadata": {},
   "outputs": [],
   "source": [
    "## How long is a list or string?\n",
    "z = len(baz)\n",
    "print(z)"
   ]
  },
  {
   "cell_type": "markdown",
   "metadata": {},
   "source": [
    "# Dictionaries\n",
    "\n",
    "A `dict` is like a list, but instead of having a specific order, you access elements by a particular key, which is just another Python object.  Not every object can be a key, but things like strings, integers, floats, and some others work."
   ]
  },
  {
   "cell_type": "code",
   "execution_count": null,
   "metadata": {},
   "outputs": [],
   "source": [
    "## Dictionaries store things indexed by other things!\n",
    "info = {'cat':3, 'dog':2, 'wombat':0}\n",
    "print(info['cat'])"
   ]
  },
  {
   "cell_type": "code",
   "execution_count": null,
   "metadata": {},
   "outputs": [],
   "source": [
    "## add new entry to dictionary\n",
    "info[4] = 'four'\n",
    "print(info)"
   ]
  },
  {
   "cell_type": "code",
   "execution_count": null,
   "metadata": {},
   "outputs": [],
   "source": [
    "## overwrite an entry\n",
    "info['cat'] = [1,2,3]\n",
    "print(info)"
   ]
  },
  {
   "cell_type": "markdown",
   "metadata": {},
   "source": [
    "# Iteration\n",
    "\n",
    "For many programming tasks, you need to do *almost* the same thing over and over.  Rather than retyping or copying code many times, you can setup a `for` loop to repeatedly run code with slight variations."
   ]
  },
  {
   "cell_type": "code",
   "execution_count": null,
   "metadata": {},
   "outputs": [],
   "source": [
    "# Iteration\n",
    "## Automate doing nearly the same thing over and over again\n",
    "for element in [1,2,3]:\n",
    "    print(element)"
   ]
  },
  {
   "cell_type": "code",
   "execution_count": null,
   "metadata": {},
   "outputs": [],
   "source": [
    "## often iterate through list of just numbers\n",
    "for i in range(10):\n",
    "    print(i, i**2)"
   ]
  },
  {
   "cell_type": "code",
   "execution_count": null,
   "metadata": {},
   "outputs": [],
   "source": [
    "## sum 0-100\n",
    "s = 0\n",
    "for i in range(101):\n",
    "    s += i\n",
    "print(s)"
   ]
  },
  {
   "cell_type": "code",
   "execution_count": null,
   "metadata": {},
   "outputs": [],
   "source": [
    "## make a new list\n",
    "s = list()\n",
    "for i in range(10,20): # 10, 11, ..., 19\n",
    "    s.append(i**2)\n",
    "print(s)"
   ]
  },
  {
   "cell_type": "markdown",
   "metadata": {},
   "source": [
    "# Functions\n",
    "\n",
    "Much like iteration can repeat code, a Function is a piece of Python code that you can call as a shorthand.  This often makes code not only easier to understand, but easier to use."
   ]
  },
  {
   "cell_type": "code",
   "execution_count": null,
   "metadata": {},
   "outputs": [],
   "source": [
    "# Functions\n",
    "## setup a series of commands you can call whenever needed\n",
    "def square(x):\n",
    "    return x**2\n",
    "\n",
    "ans = square(4)\n",
    "print(ans)"
   ]
  },
  {
   "cell_type": "code",
   "execution_count": null,
   "metadata": {},
   "outputs": [],
   "source": [
    "def my_sum(things):\n",
    "    ans = 0\n",
    "    for i in things:\n",
    "        ans += i\n",
    "    return ans\n",
    "\n",
    "ans = my_sum([1,3,5])\n",
    "print(ans)"
   ]
  },
  {
   "cell_type": "code",
   "execution_count": null,
   "metadata": {},
   "outputs": [],
   "source": [
    "## multiple arguments, with defaults\n",
    "def power(base, exp=2):\n",
    "    return base**exp\n",
    "\n",
    "print(power(2)) # use default\n",
    "print(power(2, 1)) # by position\n",
    "print(power(exp=1, base=2)) # by name, any order"
   ]
  },
  {
   "cell_type": "markdown",
   "metadata": {},
   "source": [
    "# Visualization\n",
    "\n",
    "Printing is great, but sometimes it's much easier to see what's happening by plotting a graph.  `matplotlib` is Python library to do exactly that, somewhat similar to `matlab` plotting syntax."
   ]
  },
  {
   "cell_type": "code",
   "execution_count": null,
   "metadata": {},
   "outputs": [],
   "source": [
    "# Just for jupyter notebook\n",
    "%matplotlib notebook"
   ]
  },
  {
   "cell_type": "code",
   "execution_count": null,
   "metadata": {},
   "outputs": [],
   "source": [
    "# Plotting\n",
    "import matplotlib.pyplot as plt\n",
    "plt.ion() # make plots show up right away\n",
    "\n",
    "## plot vs index\n",
    "plt.plot([1,2,5])"
   ]
  },
  {
   "cell_type": "code",
   "execution_count": null,
   "metadata": {},
   "outputs": [],
   "source": [
    "## y vs x\n",
    "x = [1,2,5]\n",
    "y = [2,4,6]\n",
    "plt.plot(x,y)"
   ]
  },
  {
   "cell_type": "code",
   "execution_count": null,
   "metadata": {},
   "outputs": [],
   "source": [
    "## bar plot\n",
    "plt.bar(x,y)"
   ]
  },
  {
   "cell_type": "markdown",
   "metadata": {},
   "source": [
    "# NumPy\n",
    "\n",
    "Python has some basic computing capabilities, but for many numerical calculations, it's convenient to be able to do the same thing to every element of an `array`.  Or to have built-in linear algebra routines.  NumPy is that library; here we show only the briefest example."
   ]
  },
  {
   "cell_type": "code",
   "execution_count": null,
   "metadata": {},
   "outputs": [],
   "source": [
    "# Numpy for matrix manipulation and more!\n",
    "import numpy as np # can rename module for each access\n",
    "\n",
    "## works like a list\n",
    "a = np.array([1,2,3])\n",
    "print(a)"
   ]
  },
  {
   "cell_type": "code",
   "execution_count": null,
   "metadata": {},
   "outputs": [],
   "source": [
    "## but list of lists\n",
    "b = np.array([[1,2], [3,4]])\n",
    "print(b)\n",
    "print(b[0])\n",
    "print(b[0,1]) # multiple indices!"
   ]
  },
  {
   "cell_type": "code",
   "execution_count": null,
   "metadata": {},
   "outputs": [],
   "source": []
  }
 ],
 "metadata": {
  "kernelspec": {
   "display_name": "Python 3",
   "language": "python",
   "name": "python3"
  },
  "language_info": {
   "codemirror_mode": {
    "name": "ipython",
    "version": 3
   },
   "file_extension": ".py",
   "mimetype": "text/x-python",
   "name": "python",
   "nbconvert_exporter": "python",
   "pygments_lexer": "ipython3",
   "version": "3.6.9"
  }
 },
 "nbformat": 4,
 "nbformat_minor": 4
}
